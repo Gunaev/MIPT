{
 "cells": [
  {
   "cell_type": "markdown",
   "metadata": {
    "colab_type": "text",
    "id": "3XMXIo64yGHg"
   },
   "source": [
    "# l-1 trend filtering"
   ]
  },
  {
   "cell_type": "markdown",
   "metadata": {
    "colab_type": "text",
    "id": "VAI5OowcyGHi"
   },
   "source": [
    "В своей знаменитой статье [l-1 trend filtering](https://web.stanford.edu/~boyd/papers/l1_trend_filter.html) Стивен Бойд и его коллеги предложили подход к выявлению тренда в финансовых временных рядах с помощью выпуклой оптимизации. В частности, вместо построения стохастической модели временного ряда, они предложили отталкиваться от задачи - построить кусочно-линейную линию тренда, наилучшим образом аппроксимирующую данный временной ряд.\n",
    "\n",
    "Это привело к задачи оптимизации следующего вида:\n",
    "\n",
    "**TrendFilter problem**\n",
    "$$\n",
    "\\min_{x \\in R^T} \\frac{1}{2}\\|y - x\\|_2^2 + \\lambda \\|Dx\\|_1\n",
    "$$\n",
    "где $y \\in R^T$ - временной ряд фактических цен акции (с момента времени $t = 1$ до момента времени $T$), матрица $D \\in R^{(T-2) \\times T}$ является трехдиагональной: $[Dx]_i = x_i - 2 \\cdot x_{i+1} + x_{i+2} \\quad$ ($1\\leq i \\leq T-2$).\n",
    "\n",
    "Первый член в целевой функции отвечает за близость решения к фактическим данным, а второй форсирует решение  быть кусочно-линейной функцией с минимальным числом \"изломов\". \n"
   ]
  },
  {
   "cell_type": "code",
   "execution_count": 1,
   "metadata": {},
   "outputs": [],
   "source": [
    "import pandas as pd\n",
    "import numpy as np"
   ]
  },
  {
   "cell_type": "code",
   "execution_count": 6,
   "metadata": {},
   "outputs": [],
   "source": [
    "import pandas_datareader as pdr"
   ]
  },
  {
   "cell_type": "code",
   "execution_count": 2,
   "metadata": {},
   "outputs": [],
   "source": [
    "import csv\n",
    "data = pd.read_csv(\"data1.csv\", sep = \";\", encoding=\"utf-8\", header = None, engine = 'python')"
   ]
  },
  {
   "cell_type": "code",
   "execution_count": 3,
   "metadata": {},
   "outputs": [
    {
     "data": {
      "text/html": [
       "<div>\n",
       "<style scoped>\n",
       "    .dataframe tbody tr th:only-of-type {\n",
       "        vertical-align: middle;\n",
       "    }\n",
       "\n",
       "    .dataframe tbody tr th {\n",
       "        vertical-align: top;\n",
       "    }\n",
       "\n",
       "    .dataframe thead th {\n",
       "        text-align: right;\n",
       "    }\n",
       "</style>\n",
       "<table border=\"1\" class=\"dataframe\">\n",
       "  <thead>\n",
       "    <tr style=\"text-align: right;\">\n",
       "      <th></th>\n",
       "      <th>0</th>\n",
       "      <th>1</th>\n",
       "      <th>2</th>\n",
       "      <th>3</th>\n",
       "      <th>4</th>\n",
       "      <th>5</th>\n",
       "      <th>6</th>\n",
       "      <th>7</th>\n",
       "      <th>8</th>\n",
       "    </tr>\n",
       "  </thead>\n",
       "  <tbody>\n",
       "    <tr>\n",
       "      <th>0</th>\n",
       "      <td>&lt;TICKER&gt;</td>\n",
       "      <td>&lt;PER&gt;</td>\n",
       "      <td>&lt;DATE&gt;</td>\n",
       "      <td>&lt;TIME&gt;</td>\n",
       "      <td>&lt;OPEN&gt;</td>\n",
       "      <td>&lt;HIGH&gt;</td>\n",
       "      <td>&lt;LOW&gt;</td>\n",
       "      <td>&lt;CLOSE&gt;</td>\n",
       "      <td>&lt;VOL&gt;</td>\n",
       "    </tr>\n",
       "    <tr>\n",
       "      <th>1</th>\n",
       "      <td>MOEX</td>\n",
       "      <td>D</td>\n",
       "      <td>20190228</td>\n",
       "      <td>000000</td>\n",
       "      <td>90.4000000</td>\n",
       "      <td>91.2200000</td>\n",
       "      <td>89.9100000</td>\n",
       "      <td>91.2200000</td>\n",
       "      <td>5820490</td>\n",
       "    </tr>\n",
       "    <tr>\n",
       "      <th>2</th>\n",
       "      <td>MOEX</td>\n",
       "      <td>D</td>\n",
       "      <td>20190301</td>\n",
       "      <td>000000</td>\n",
       "      <td>91.1000000</td>\n",
       "      <td>91.9500000</td>\n",
       "      <td>90.7200000</td>\n",
       "      <td>91.5700000</td>\n",
       "      <td>7745640</td>\n",
       "    </tr>\n",
       "    <tr>\n",
       "      <th>3</th>\n",
       "      <td>MOEX</td>\n",
       "      <td>D</td>\n",
       "      <td>20190304</td>\n",
       "      <td>000000</td>\n",
       "      <td>91.7100000</td>\n",
       "      <td>93.3700000</td>\n",
       "      <td>91.4400000</td>\n",
       "      <td>92.4400000</td>\n",
       "      <td>9692960</td>\n",
       "    </tr>\n",
       "    <tr>\n",
       "      <th>4</th>\n",
       "      <td>MOEX</td>\n",
       "      <td>D</td>\n",
       "      <td>20190305</td>\n",
       "      <td>000000</td>\n",
       "      <td>92.4300000</td>\n",
       "      <td>93.2200000</td>\n",
       "      <td>91.6000000</td>\n",
       "      <td>92.3800000</td>\n",
       "      <td>7908670</td>\n",
       "    </tr>\n",
       "  </tbody>\n",
       "</table>\n",
       "</div>"
      ],
      "text/plain": [
       "          0      1         2       3           4           5           6  \\\n",
       "0  <TICKER>  <PER>    <DATE>  <TIME>      <OPEN>      <HIGH>       <LOW>   \n",
       "1      MOEX      D  20190228  000000  90.4000000  91.2200000  89.9100000   \n",
       "2      MOEX      D  20190301  000000  91.1000000  91.9500000  90.7200000   \n",
       "3      MOEX      D  20190304  000000  91.7100000  93.3700000  91.4400000   \n",
       "4      MOEX      D  20190305  000000  92.4300000  93.2200000  91.6000000   \n",
       "\n",
       "            7        8  \n",
       "0     <CLOSE>    <VOL>  \n",
       "1  91.2200000  5820490  \n",
       "2  91.5700000  7745640  \n",
       "3  92.4400000  9692960  \n",
       "4  92.3800000  7908670  "
      ]
     },
     "execution_count": 3,
     "metadata": {},
     "output_type": "execute_result"
    }
   ],
   "source": [
    "data.head()"
   ]
  },
  {
   "cell_type": "code",
   "execution_count": 5,
   "metadata": {},
   "outputs": [],
   "source": [
    "from pandas import DataFrame\n",
    "data_frame = DataFrame(data)"
   ]
  },
  {
   "cell_type": "code",
   "execution_count": 6,
   "metadata": {},
   "outputs": [],
   "source": [
    "y = np.array(data_frame[7])"
   ]
  },
  {
   "cell_type": "code",
   "execution_count": 7,
   "metadata": {},
   "outputs": [],
   "source": [
    "y = np.delete(y, 0)"
   ]
  },
  {
   "cell_type": "code",
   "execution_count": 27,
   "metadata": {},
   "outputs": [],
   "source": [
    "for i in range(y.size):\n",
    "    y[i] = float(y[i])"
   ]
  },
  {
   "cell_type": "markdown",
   "metadata": {},
   "source": [
    "2)Сделаем замену $Dx = z$, тогда получим эквивалентную задачу $$\\min \\frac{1}{2}\\|y - x\\|_2^2 + \\lambda\\|z\\|_1$$ $$s.t~ Dx = z$$\n",
    "\n",
    "Выпишем выражение для Лагранжиана\n",
    "\n",
    "$$\n",
    "L(x, z, \\mu) = \\frac{1}{2}\\|y - x\\|_2^2 + \\lambda\\|z\\|_1 + \\mu^T(Dx - z)\n",
    "$$\n",
    "\n",
    "Найдем инфимум Лагранжиана, для этого приравняем частные производные по $x$ и по $z$ к нулю.\n",
    "\n",
    "$$\\dfrac{\\partial L}{\\partial x} = -(y - x) + D^T\\mu = 0 \\Rightarrow y - x = D^T\\mu$$\n",
    "\n",
    "\n",
    "Заметим, что задача сепарабельна по $z$, тогда, разбив задачу на мелкие подзадачи, получим\n",
    "$$\\left\\{\n",
    "\\begin{aligned}\n",
    "&\\lambda = \\mu_i, z_i > 0\n",
    "\\\\\n",
    "&\\lambda = -\\mu_i, z_i < 0 \n",
    "\\\\\n",
    "&\\mu \\in [-\\lambda; \\lambda], z_i = 0\n",
    "\\end{aligned}\n",
    "\\right. \\Rightarrow \\lambda\\|z\\|_1 = \\mu^Tz\n",
    "$$\n",
    "\n",
    "\n",
    "Подставим результат в выражение для Лагранжиана и получим двойственную задачу\n",
    "\n",
    "$$\n",
    "\\begin{aligned}\n",
    "&\\min_{\\mu} \\frac{1}{2}\\|D^T\\mu\\|_2^2 - \\mu^TDy\n",
    "\\\\\n",
    "&s.t ~ -\\lambda\\mathbf{1}\\leqslant \\mu \\leqslant \\lambda\\mathbf{1}\n",
    "\\end{aligned}\n",
    "$$"
   ]
  },
  {
   "cell_type": "markdown",
   "metadata": {},
   "source": [
    "3)Для решения прямой задачи решим двойственную, так как решение прямой выражается через решение двойственной следующим образом\n",
    "\n",
    "$$\n",
    "x^{opt} = y - D^T\\mu^{opt}\n",
    "$$\n",
    "Решим эквивалентную задачу\n",
    "\n",
    "$$\n",
    "\\begin{aligned}\n",
    "\\min_{\\mu} \\frac{1}{2}\\|D^T\\mu\\|_2^2 - \\mu^TDy + I_Q(\\mu),\n",
    "\\end{aligned}\n",
    "$$\n",
    "где \n",
    "$$I_{Q}(\\mu) = \\left\\{\n",
    "\\begin{aligned}\n",
    "&0, ~-\\lambda\\mathbf{1}\\leqslant \\mu \\leqslant \\lambda\\mathbf{1}\n",
    "\\\\\n",
    "&+\\infty, ~otherwise\n",
    "\\end{aligned}\n",
    "\\right.\n",
    "$$\n",
    "\n",
    "Данная задача решается методом проксимального градиентного спуска, в котором итерация будет иметь следующий вид\n",
    "\n",
    "$$\n",
    "\\mu_{k+1} = Prox_{\\alpha_k h}(\\mu_k - \\alpha_k\\nabla f(\\mu_k)), ~h(\\mu) = I_Q(\\mu), ~f(\\mu) = \\frac{1}{2}\\|D^T\\mu\\|_2^2 - \\mu^TDy.\n",
    "$$\n",
    "\n",
    "$$\n",
    "\\nabla f(\\mu) = DD^T\\mu - Dy.\n",
    "$$\n",
    "\n",
    "В качестве начального приближения $\\mu$ возьмем вектор из всех нулей, а за $\\alpha_k$ возьмем обратное максимальное собственное число матрицы Гессе, в данном случае она равна $DD^T$."
   ]
  },
  {
   "cell_type": "code",
   "execution_count": 382,
   "metadata": {},
   "outputs": [],
   "source": [
    "m = np.zeros((y.size - 2))"
   ]
  },
  {
   "cell_type": "code",
   "execution_count": 371,
   "metadata": {},
   "outputs": [],
   "source": [
    "D = np.zeros((y.size - 2, y.size))"
   ]
  },
  {
   "cell_type": "code",
   "execution_count": 374,
   "metadata": {},
   "outputs": [],
   "source": [
    "A = D.dot(D.T)"
   ]
  },
  {
   "cell_type": "code",
   "execution_count": 375,
   "metadata": {},
   "outputs": [],
   "source": [
    "l = 1/max(np.linalg.eigvals(A))"
   ]
  },
  {
   "cell_type": "code",
   "execution_count": 376,
   "metadata": {},
   "outputs": [
    {
     "data": {
      "text/plain": [
       "0.06250488437662041"
      ]
     },
     "execution_count": 376,
     "metadata": {},
     "output_type": "execute_result"
    }
   ],
   "source": [
    "l"
   ]
  },
  {
   "cell_type": "code",
   "execution_count": 372,
   "metadata": {},
   "outputs": [],
   "source": [
    "for i in range(y.size - 2):\n",
    "    D[i][i] = 1\n",
    "    D[i][i+1] = -2\n",
    "    D[i][i+2] = 1"
   ]
  },
  {
   "cell_type": "code",
   "execution_count": 295,
   "metadata": {},
   "outputs": [],
   "source": [
    "def Prox(x):\n",
    "    for i in range(x.size):\n",
    "        if x[i] > 1:\n",
    "            x[i] = 1\n",
    "        else:\n",
    "            if x[i] < -1:\n",
    "                x[i] = -1\n",
    "    return x"
   ]
  },
  {
   "cell_type": "code",
   "execution_count": 296,
   "metadata": {},
   "outputs": [],
   "source": [
    "def Grad(x):\n",
    "    return A.dot(x) - D.dot(y)"
   ]
  },
  {
   "cell_type": "code",
   "execution_count": 297,
   "metadata": {},
   "outputs": [],
   "source": [
    "def MSE(x, y):\n",
    "    s = 0.0\n",
    "    for i in range(x.size):\n",
    "        s+= ((x[i] - y[i])*(x[i] - y[i]))\n",
    "    return s"
   ]
  },
  {
   "cell_type": "code",
   "execution_count": 298,
   "metadata": {},
   "outputs": [],
   "source": [
    "q = 1e-04"
   ]
  },
  {
   "cell_type": "code",
   "execution_count": 383,
   "metadata": {},
   "outputs": [],
   "source": [
    "m_k = np.zeros((y.size - 2))\n",
    "m_k[0] = 1.0\n",
    "sum = 0"
   ]
  },
  {
   "cell_type": "code",
   "execution_count": 384,
   "metadata": {},
   "outputs": [],
   "source": [
    "while MSE(m, m_k) > q:\n",
    "    m_k = m[:]\n",
    "    m = Prox(m - l*Grad(m))\n",
    "    sum +=1 "
   ]
  },
  {
   "cell_type": "code",
   "execution_count": 385,
   "metadata": {},
   "outputs": [
    {
     "data": {
      "text/plain": [
       "202"
      ]
     },
     "execution_count": 385,
     "metadata": {},
     "output_type": "execute_result"
    }
   ],
   "source": [
    "sum"
   ]
  },
  {
   "cell_type": "code",
   "execution_count": 302,
   "metadata": {},
   "outputs": [],
   "source": [
    "x_0 = (y - D.T.dot(m))[:] "
   ]
  },
  {
   "cell_type": "code",
   "execution_count": 305,
   "metadata": {},
   "outputs": [
    {
     "data": {
      "text/plain": [
       "70.87518690522856"
      ]
     },
     "execution_count": 305,
     "metadata": {},
     "output_type": "execute_result"
    }
   ],
   "source": [
    "1.0/2.0*MSE(y,x_0)+Norm_1(D.dot(x_0)) # Значение целевой функции в проксимальном методе"
   ]
  },
  {
   "cell_type": "markdown",
   "metadata": {},
   "source": [
    "4) Положим параметр регуляризации равным единице $\\lambda = 1$. Сделаем замену $Dx = z$, далее выпишем модифицированный Лагранжиан\n",
    "\n",
    "$$\n",
    "L_r(x, z, \\mu) = \\frac{1}{2}\\|y - x\\|_2^2 + \\|z\\|_1 + \\frac{1}{2r}\\|\\mu + r(Dx - z)\\|_2^2 - \\dfrac{\\|\\mu\\|^2_2}{2r}.\n",
    "$$\n",
    "\n",
    "Тогда схема ADMM будет выглядеть следующим образом\n",
    "\n",
    "$$\n",
    "\\begin{aligned}\n",
    "&x^{k+1} = argmin_{x}~ L_r(x, z^k, \\mu^k)\n",
    "\\\\\n",
    "&z^{k+1} = argmin_{z}~ L_r(x^k, z, \\mu^k)\n",
    "\\\\\n",
    "&\\mu^{k+1} = \\mu^k + r(Dx^{k+1} - z^{k+1})\n",
    "\\end{aligned}\n",
    "$$\n",
    "\n",
    "Сначала решим задачу минимизации Лагранжиана по $x$, взяв градиент, получим\n",
    "\n",
    "$$\n",
    "x^{k+1} = (I + rD^TD)^{-1}(rD^Tz^{k} - D^{T}\\mu^k + y). \n",
    "$$\n",
    "\n",
    "Далее по $z$. Заметим, что задача сепарабельна, поэтому \n",
    "\n",
    "$$\n",
    "\\begin{aligned}\n",
    "&z_i^{k+1} = 1/r(\\mu_i^k + r(Dx^{k})_i - 1),~ \\mu_i^k + r(Dx^{k})_i > 1\n",
    "\\\\\n",
    "&z_i^{k+1} = 1/r(\\mu_i^k + r(Dx^{k})_i + 1),~ \\mu_i^k + r(Dx^{k})_i < -1\n",
    "\\\\\n",
    "&z_i^{k+1} = 1/r(\\mu_i^k + r(Dx^{k})_i),~ \\mu_i^k + r(Dx^{k})_i \\in [-1; 1]\n",
    "\\end{aligned}\n",
    "$$\n",
    "\n"
   ]
  },
  {
   "cell_type": "code",
   "execution_count": 306,
   "metadata": {},
   "outputs": [],
   "source": [
    "r = 1000"
   ]
  },
  {
   "cell_type": "code",
   "execution_count": 307,
   "metadata": {},
   "outputs": [],
   "source": [
    "C = D.T.dot(D)"
   ]
  },
  {
   "cell_type": "code",
   "execution_count": 308,
   "metadata": {},
   "outputs": [],
   "source": [
    "B = r*C + np.eye(y.size)"
   ]
  },
  {
   "cell_type": "code",
   "execution_count": 309,
   "metadata": {},
   "outputs": [],
   "source": [
    "x = np.zeros(y.size)\n",
    "z = np.zeros(y.size - 2)\n",
    "n = np.zeros(y.size - 2)"
   ]
  },
  {
   "cell_type": "code",
   "execution_count": 310,
   "metadata": {},
   "outputs": [],
   "source": [
    "B_1 = np.linalg.inv(B)"
   ]
  },
  {
   "cell_type": "code",
   "execution_count": 311,
   "metadata": {},
   "outputs": [],
   "source": [
    "def Step_z(z, s):\n",
    "    for i in range(z.size):\n",
    "        if s[i] > 1:\n",
    "            z[i] = 1/r*(s[i] - 1)\n",
    "        else:\n",
    "            if s[i] < -1:\n",
    "                z[i] = 1/r*(s[i] + 1)\n",
    "            else:\n",
    "                z[i] = 1/r*s[i]\n",
    "    return z"
   ]
  },
  {
   "cell_type": "code",
   "execution_count": 312,
   "metadata": {},
   "outputs": [],
   "source": [
    "def Step_x(z, n):\n",
    "    return B_1.dot(r*D.T.dot(z) - D.T.dot(n) + y)"
   ]
  },
  {
   "cell_type": "code",
   "execution_count": 313,
   "metadata": {},
   "outputs": [],
   "source": [
    "def Step_n(n, x, z):\n",
    "    return n + r*(D.dot(x) - z)"
   ]
  },
  {
   "cell_type": "code",
   "execution_count": 314,
   "metadata": {},
   "outputs": [],
   "source": [
    "x_k = np.zeros(y.size)\n",
    "x_k[0] = 1.0"
   ]
  },
  {
   "cell_type": "code",
   "execution_count": 315,
   "metadata": {},
   "outputs": [],
   "source": [
    "s = 0\n",
    "while MSE(x_k, x) > q*10:\n",
    "    x_k = x[:]\n",
    "    x = Step_x(z, n)\n",
    "    z = Step_z(z, n + r*D.dot(x))\n",
    "    n = Step_n(n, x, z)\n",
    "    s+=1"
   ]
  },
  {
   "cell_type": "code",
   "execution_count": 316,
   "metadata": {},
   "outputs": [
    {
     "data": {
      "text/plain": [
       "203"
      ]
     },
     "execution_count": 316,
     "metadata": {},
     "output_type": "execute_result"
    }
   ],
   "source": [
    "s"
   ]
  },
  {
   "cell_type": "code",
   "execution_count": 317,
   "metadata": {},
   "outputs": [],
   "source": [
    "def Norm_1(x):\n",
    "    s = 0\n",
    "    for i in range(x.size):\n",
    "        s += abs(x[i])\n",
    "    return s"
   ]
  },
  {
   "cell_type": "code",
   "execution_count": 318,
   "metadata": {},
   "outputs": [
    {
     "data": {
      "text/plain": [
       "77.0957736314063"
      ]
     },
     "execution_count": 318,
     "metadata": {},
     "output_type": "execute_result"
    }
   ],
   "source": [
    "1.0/2.0*MSE(y,x)+Norm_1(D.dot(x)) # Значение целевой функции в ADMM"
   ]
  },
  {
   "cell_type": "markdown",
   "metadata": {},
   "source": [
    "4)Сглаживание\n",
    "\n",
    "$$f_{\\mu} = \\frac{1}{2}\\|y-x\\|_2^2 + \\lambda\\|Dx\\|_1 - \\frac{\\mu}{2}\\|u\\|_2^2$$. \n",
    "\n",
    "Запишем в другом виде\n",
    "\n",
    "$$f_{\\mu} = \\frac{1}{2}\\|y-x\\|_2^2+\\max\\limits_{-1\\leq u_i \\leq 1}\\left[\\sum_{i=1}^{n-2}\\lambda (u_i(Dx)_i - \\frac{\\mu}{2}u_i^2\\right].$$\n",
    "\n",
    "$$L_i = \\frac{\\mu}{2}u_i^2 - \\lambda u_i(Dx)_i + a_i(-1-u_i)+b_i(u_i-1)$$. \n",
    "\n",
    "Приравняв градиент нулю, выразим $u_i$:\n",
    "\n",
    "$$u_i = \\frac{a_i-b_i+\\lambda(Dx)_i}{\\mu},$$\n",
    "\n",
    "\n",
    "Учитывая ограничения, получим\n",
    "\n",
    "$$\n",
    "u_i = \\left\\{\\begin{aligned}\n",
    "&-1,~\\lambda(Dx)_i \\leqslant -\\mu\n",
    "\\\\\n",
    "&1,~\\lambda(Dx)_i  \\geqslant \\mu\n",
    "\\\\\n",
    "&\\dfrac{\\lambda(Dx)_i}{\\mu},~\\lambda(Dx)_i \\in (-\\mu, \\mu)\n",
    "\\end{aligned}\\right.\n",
    "$$\n",
    "\n",
    "\n",
    "В силу дифференцируемости можем подставлять $u_{opt}$ в выражение для градиента\n",
    "\n",
    "\n",
    "$$\\nabla f_{\\mu}(x) = x - y + \\lambda D^Tu_{opt}.$$\n",
    "\n",
    "Далее найдем константу Липшица\n",
    "\n",
    "$d_2(u) \\geqslant \\frac{\\sigma_2}{2}\\|u\\|_2^2$. $\\sigma_2 = 1$, $\\|D\\|_{1,2} = \\max \\lambda_{DD^T}\\Rightarrow L_{\\mu} = \\frac{\\|D\\|_{1,2}}{\\mu} \\Rightarrow L = L_{\\mu} + L(1/2\\|y -x\\|_2^2) = L_{\\mu} + 1$\n",
    "\n",
    "\n",
    "\n",
    "$f_{\\mu}(x_k) = \\frac{1}{2}\\|y-x_k\\|_2^2 + \\lambda<u_{opt}, Dx_k> - \\frac{\\mu\\|u_{opt}\\|_2^2}{2}, \\nabla f_{\\mu}(x_k) = x_k - y + \\lambda D^Tu_{opt}.$\n",
    "\n",
    "$$z_k = argmin_{z}\\left[\\nabla^T f_{\\mu}(x_k)(z-x_k)+\\frac{L}{2}\\|z-x_k\\|_2^2\\right].$$\n",
    "\n",
    "Приравняем градиент нулю, найдем $z$:\n",
    "\n",
    "$$x_k - y + \\lambda D^Tu_{opt} + L(z-x_k) = 0$$\n",
    "\n",
    "$$z_k = -\\frac{1}{L}(x_k-y+\\lambda D^Tu_{opt}) + x_k$$\n",
    "\n",
    "$$r_k = argmin_r\\left[\\frac{L}{\\sigma_2}d_2(r) +  \\sum\\limits_{i=0}^k\\alpha_i\\left(f(x_i) + \\nabla^Tf(x_i)(r-x_i)\\right)\\right].$$\n",
    "\n",
    "\n",
    "$$r_k = argmin_r \\left[\\frac{L}{2}\\|r\\|_2^2 + \\sum\\limits_{i=0}^k\\frac{i+1}{2}(f(x_i) + \\nabla^Tf(x_i)(r-x_i))\\right].$$\n",
    "\n",
    "Приравняем градиент нулю, найдем $r$:\n",
    "\n",
    "$$Lr + \\sum\\limits_{i=0}^k \\frac{i+1}{2}\\nabla f(x_i) = 0 \\Rightarrow r_k = - \\frac{1}{L}\\sum\\limits_{i=0}^k \\frac{i+1}{2}\\nabla f(x_i).$$\n",
    "\n",
    "$$x_{k+1} = \\frac{2}{k+3} r_k + \\frac{k+1}{k+3}z_k.$$"
   ]
  },
  {
   "cell_type": "code",
   "execution_count": 355,
   "metadata": {},
   "outputs": [],
   "source": [
    "m = 0.01\n",
    "u = np.zeros(y.size - 2)\n",
    "x = np.zeros(y.size)\n",
    "z = np.zeros(y.size)\n",
    "r = np.zeros(y.size)\n",
    "x_k = np.zeros(y.size)\n",
    "x_k[0] = 1\n",
    "g = np.zeros(y.size)\n",
    "L = max(np.linalg.eigvals(A))/m + 1\n",
    "i = 0\n",
    "lam = 1"
   ]
  },
  {
   "cell_type": "code",
   "execution_count": 347,
   "metadata": {},
   "outputs": [],
   "source": [
    "def Smooth_optimal_u(u, x):\n",
    "    for i in range(y.size - 2):\n",
    "        if x[i] <= -m:\n",
    "            u[i] = -1\n",
    "        else:\n",
    "            if x[i] >= m:\n",
    "                u[i] = 1\n",
    "            else:\n",
    "                u[i] = x[i]/m\n",
    "    return u"
   ]
  },
  {
   "cell_type": "code",
   "execution_count": 348,
   "metadata": {},
   "outputs": [],
   "source": [
    "def Smooth_Grad(x, u):\n",
    "    return x - y + lam*D.T.dot(u)"
   ]
  },
  {
   "cell_type": "code",
   "execution_count": 342,
   "metadata": {},
   "outputs": [],
   "source": [
    "def Smooth_step_z(x, u):\n",
    "    return -1/L*(x - y + lam*D.T.dot(u)) + x"
   ]
  },
  {
   "cell_type": "code",
   "execution_count": 356,
   "metadata": {},
   "outputs": [],
   "source": [
    "while MSE(x_k, x) > q:\n",
    "    x_k = x[:]\n",
    "    u = Smooth_optimal_u(u, lam*D.dot(x))\n",
    "    z = Smooth_step_z(x, u)\n",
    "    g = Smooth_Grad(x, u)\n",
    "    r = -float((k+1))*g/(2*L) + r\n",
    "    x = 2/(i + 3)*r + (i + 1)/(i + 3)*z \n",
    "    i += 1"
   ]
  },
  {
   "cell_type": "code",
   "execution_count": 357,
   "metadata": {},
   "outputs": [
    {
     "data": {
      "text/plain": [
       "515"
      ]
     },
     "execution_count": 357,
     "metadata": {},
     "output_type": "execute_result"
    }
   ],
   "source": [
    "i"
   ]
  },
  {
   "cell_type": "code",
   "execution_count": 359,
   "metadata": {},
   "outputs": [
    {
     "data": {
      "text/plain": [
       "71.23757717381176"
      ]
     },
     "execution_count": 359,
     "metadata": {},
     "output_type": "execute_result"
    }
   ],
   "source": [
    "1.0/2.0*MSE(y,x)+Norm_1(D.dot(x)) # Значение целевой функции в сглаживании"
   ]
  },
  {
   "cell_type": "markdown",
   "metadata": {},
   "source": [
    "Сравнение методов: \n",
    "1)Проксимальный градиентный спуск -- значение целевой функции $70.87$, количество итераций $202$\n",
    "\n",
    "2)ADMM -- значение целевой функции $77.09$, количество итераций $203$\n",
    "\n",
    "3)Сглаживание -- значение целевой функции $71.23$, количество итераций $505$."
   ]
  },
  {
   "cell_type": "markdown",
   "metadata": {
    "colab_type": "text",
    "id": "UPl-SoN3yLX2"
   },
   "source": [
    "# ADMM"
   ]
  },
  {
   "cell_type": "markdown",
   "metadata": {
    "colab_type": "text",
    "id": "G-VNpCgqyoe8"
   },
   "source": [
    "Техника сглаживания оказала достаточно большое влияние на развитие методов восстановления тензоров (matrix completion problem является частным случаем). \n",
    "\n",
    "Рассмотрим задачу восстановления матрицы $Y$. Мы наблюдаем только небольшой набор элементов матрицы $Y$, множество индексов известных элементов обозначим через $E$. То есть мы знаем $Y_{ij}$ для всех $(i,j) \\in E$, и не знаем $Y_{ij}$ для всех $(i,j) \\notin E$.\n",
    "\n",
    "Понятно, что без наличия какой-либо дополнительной информации о матрице $Y$ эта постановка является тривиальной: любая матрица $X$, для которой выполнено $X_{i,j} = Y_{i,j}, \\quad (i,j) \\in E$ является разумным ответом. Таких матриц бесконечно много. Соответственно задача восстановления матриц обычно рассматривается как частный случай задачи приближения матрицы, а критерий качества (целевая функция) говорит не столько о близости $X$ к $Y$, сколько о полезных свойствах матрицы $X$ (этим свойствам матрица $Y$ может и не обладать).\n",
    "\n",
    "Одна из самых популярных постановок, с которой Вы наверняка сталкивались, например, строя рекомендательные системы, является задача о поиске наилучшего приближения заданной матрицы матрицей малого ранга:\n",
    "\n",
    "$$\n",
    "\\begin{align*}\n",
    "& \\min_{X} rk(X) \\\\\n",
    "& X_{i,j} = Y_{i,j}, \\quad (i,j) \\in E\\\\\n",
    "\\end{align*}\n",
    "$$\n",
    "Как известно, в общем случае эта задача является NP-трудной.\n",
    "\n",
    "Для того, чтобы обойти это припятствие ранк матрицы аппроксимируется той или иной выпуклой функцией от матрицы $X$.\n",
    "\n",
    "Опять же стандартным выбором является переход к постановке задачи с использованием 1-й нормы Шаттена (она же trace norm).\n",
    "\n",
    "$\\textbf{RegMC problem}$\n",
    "\n",
    "$$\n",
    "\\begin{align*}\n",
    "& \\min_{X}\\|X \\|_* \\\\\n",
    "& X_{i,j} = Y_{i,j}, \\quad (i,j) \\in E\\\\\n",
    "\\end{align*}\n",
    "$$\n",
    "\n",
    "Здесь $X_* = \\sum \\sigma_i(X)$. \n",
    "\n",
    "\n",
    "\n",
    "\n",
    "\n"
   ]
  },
  {
   "cell_type": "markdown",
   "metadata": {},
   "source": [
    "1) В силу эквивалентности первой нормы Шаттена для матриц с первой нормой для векторов, будет решать данную задачу аналогичным образом.\n",
    "Построим эквивалентную задачу\n",
    "$$\n",
    "\\begin{aligned}\n",
    "&\\min_X~ \\|X\\|_* + I_Q(Z)\n",
    "\\\\\n",
    "&s.t~ X - Z = 0.\n",
    "\\end{aligned}\n",
    "$$\n",
    "\n",
    "Здесь \n",
    "$$\n",
    "I_Q(Z) = \\left\\{\\begin{aligned}\n",
    "&0,~ Z_{i,j} = Y_{i, j}, ~~(i,j) \\in E\n",
    "\\\\\n",
    "&\\infty, ~ otherwise\n",
    "\\end{aligned}\n",
    "\\right.\n",
    "$$ \n",
    "\n",
    "В таком виде задача пригодна для решения методом ADMM.\n",
    "\n",
    "2)Запишем Лагранжиан в следующем виде\n",
    "\n",
    "$$\n",
    "L(X, Z, U) = \\|X\\|_* + I_Q(Z) + \\dfrac{1}{2r}\\|U + r(X - Z)\\|_F^2.\n",
    "$$\n",
    "\n",
    "Тогда \n",
    "\n",
    "$$\n",
    "\\begin{aligned}\n",
    "&X^{k+1} = argmin_{X}\\left(\\|X\\|_* + \\dfrac{1}{2r}\\|r(X - Z^{k}) + U^k\\|_F^2\\right)\n",
    "\\\\\n",
    "&Z^{k+1} = \\Pi_Q\\left(X^{k+1} + \\dfrac{U^k}{r}\\right)\n",
    "\\\\\n",
    "&U^{k+1} = U^k + r(X^{k+1} - Z^{k+1}).\n",
    "\\end{aligned}\n",
    "$$\n",
    "\n",
    "Найдем $argmin_{X}\\left(\\|X\\|_* + \\dfrac{1}{2r}\\|r(X - Z^{k}) + U^k\\|_F^2\\right)$. Для более компактной записи положим $A = rZ^k - U^k$.\n",
    "\n",
    "Под записью $\\sigma(R)$ будет пониматься вектор, составленный из сингулярных чисел матрицы $R$. Далее заметим, что $\\|R\\|_* = \\|\\sigma(R)\\|_1$, также пусть $R = QKW^T$ - сингулярное разложение матрицы, тогда\n",
    "\n",
    "$$\\langle QKW^T, QKW^T\\rangle = \\langle Q^TQKW^TW, K\\rangle = \\langle K, K\\rangle = \\|\\sigma(R)\\|_2^2.$$\n",
    "\n",
    "Пусть теперь $A = WSV^T$ - сингулярное разложение. Тогда будем решать аналогичную задачу, но теперь для вектора $\\sigma(A)$.\n",
    "\n",
    "$$\n",
    "argmin_{x}(\\|x\\|_{1} + \\dfrac{1}{2r}\\|rx - \\sigma(A)\\|_2^2)\n",
    "$$\n",
    "\n",
    "Заметим, что задача сепарабельная, тогда взяв производную покомпонентно, получим\n",
    "\n",
    "$$\n",
    "x_i = \\left\\{\\begin{aligned}\n",
    "&\\dfrac{\\sigma(A)_i - 1}{r}, ~\\sigma(A)_i > 1\n",
    "\\\\\n",
    "&\\dfrac{\\sigma(A)_i + 1}{r}, ~\\sigma(A)_i < -1\n",
    "\\\\\n",
    "&0, ~\\sigma(A)_i \\in [-1, 1]\n",
    "\\end{aligned}\\right.\n",
    "$$\n",
    "\n",
    "Тогда $X^{k+1} = W\\Sigma V^T$, где $\\Sigma_{i,i} = x_i, \\Sigma_{i,j} = 0~ \\forall i \\neq j$. \n",
    "\n",
    "\n",
    "Для нахождения $Z^{k+1}$ нужно взять проекцию на множество, а для этого достаточно положить $[X^{k+1} + U^k]_{i,j} = Y_{i,j}~~ \\forall (i,j) \\in E$."
   ]
  },
  {
   "cell_type": "code",
   "execution_count": 2,
   "metadata": {},
   "outputs": [],
   "source": [
    "import numpy as np"
   ]
  },
  {
   "cell_type": "code",
   "execution_count": 285,
   "metadata": {},
   "outputs": [],
   "source": [
    "np.random.seed(0) #тестовая матрица для проверки алгоритма\n",
    "Y = np.random.rand(100,100)"
   ]
  },
  {
   "cell_type": "code",
   "execution_count": 286,
   "metadata": {},
   "outputs": [],
   "source": [
    "E = [[0,0],[0,1],[1,1],[1,3],[2,0],[2,2], [3,1], [3,3]] #набор известных индексов"
   ]
  },
  {
   "cell_type": "code",
   "execution_count": 287,
   "metadata": {},
   "outputs": [],
   "source": [
    "for (i, j) in E: #значения в известных индексах\n",
    "    Y[i][j] = 13\n",
    "Y[0][2] = 12\n",
    "Y[0][3] = 1\n",
    "Y[3][0] = 18"
   ]
  },
  {
   "cell_type": "code",
   "execution_count": 295,
   "metadata": {},
   "outputs": [],
   "source": [
    "n = Y.shape[0] #размеры матрицы\n",
    "m = Y.shape[1]"
   ]
  },
  {
   "cell_type": "code",
   "execution_count": 296,
   "metadata": {},
   "outputs": [
    {
     "data": {
      "text/plain": [
       "348.13072273409006"
      ]
     },
     "execution_count": 296,
     "metadata": {},
     "output_type": "execute_result"
    }
   ],
   "source": [
    "np.linalg.norm(Y, 'nuc') #ядровая норма тестовой матрицы"
   ]
  },
  {
   "cell_type": "code",
   "execution_count": 297,
   "metadata": {},
   "outputs": [],
   "source": [
    "def Projection_Q(Z): #Проекция на множество\n",
    "    for [i, j] in E:\n",
    "        Z[i][j] = Y[i][j]\n",
    "    return Z"
   ]
  },
  {
   "cell_type": "code",
   "execution_count": 298,
   "metadata": {},
   "outputs": [],
   "source": [
    "def Proximal_x(x, a): #Проксимальное отображение для вектора\n",
    "    for i in range(n):\n",
    "        if a[i] > 1:\n",
    "            x[i] = (a[i] - 1)/r\n",
    "        else: #отбросили один случай, так как сингулярные числа всегда положительны\n",
    "            x[i] = 0\n",
    "    return x"
   ]
  },
  {
   "cell_type": "code",
   "execution_count": 299,
   "metadata": {},
   "outputs": [],
   "source": [
    "def Proximal_X(Z, U): #Проксимальное отображение для матрицы\n",
    "    W, s, V = np.linalg.svd(r*Z - U, full_matrices=True)\n",
    "    x = np.zeros(n)\n",
    "    x = Proximal_x(x, s)\n",
    "    S = np.zeros((n,m))\n",
    "    for i in range(n): #меняем матрицу S с новыми сингулярными числами\n",
    "        S[i][i] = x[i]\n",
    "    return W.dot(S).dot(V)"
   ]
  },
  {
   "cell_type": "code",
   "execution_count": 300,
   "metadata": {},
   "outputs": [],
   "source": [
    "def Step_U(U, X, Z): #шаг для матрицы U\n",
    "    return U + r*X - r*Z"
   ]
  },
  {
   "cell_type": "code",
   "execution_count": 270,
   "metadata": {},
   "outputs": [],
   "source": [
    "q = 0.001 #невязка"
   ]
  },
  {
   "cell_type": "code",
   "execution_count": 290,
   "metadata": {},
   "outputs": [],
   "source": [
    "np.random.seed(0) #начальные приближения\n",
    "X = np.random.rand(n,m)\n",
    "Z = np.random.rand(n,m)\n",
    "U = np.random.rand(n,m)\n",
    "r = 10\n",
    "a = 0\n",
    "s = 0 "
   ]
  },
  {
   "cell_type": "code",
   "execution_count": 291,
   "metadata": {},
   "outputs": [],
   "source": [
    "while abs(a - np.linalg.norm(Z, 'nuc')) > q:  #алгоритм работает, пока невязка не больше q\n",
    "    X = Proximal_X(Z, U)\n",
    "    a = np.linalg.norm(Z, 'nuc')\n",
    "    Z = Projection_Q(X + U/r)\n",
    "    U = Step_U(U, X, Z)\n",
    "    s += 1"
   ]
  },
  {
   "cell_type": "code",
   "execution_count": 292,
   "metadata": {},
   "outputs": [
    {
     "data": {
      "text/plain": [
       "470"
      ]
     },
     "execution_count": 292,
     "metadata": {},
     "output_type": "execute_result"
    }
   ],
   "source": [
    "s #количество итераций"
   ]
  },
  {
   "cell_type": "code",
   "execution_count": 294,
   "metadata": {},
   "outputs": [
    {
     "data": {
      "text/plain": [
       "56.196142261842475"
      ]
     },
     "execution_count": 294,
     "metadata": {},
     "output_type": "execute_result"
    }
   ],
   "source": [
    "np.linalg.norm(Z, 'nuc')"
   ]
  }
 ],
 "metadata": {
  "colab": {
   "collapsed_sections": [],
   "name": "Домашняя работа №1.ipynb",
   "provenance": []
  },
  "kernelspec": {
   "display_name": "Python 3",
   "language": "python",
   "name": "python3"
  },
  "language_info": {
   "codemirror_mode": {
    "name": "ipython",
    "version": 3
   },
   "file_extension": ".py",
   "mimetype": "text/x-python",
   "name": "python",
   "nbconvert_exporter": "python",
   "pygments_lexer": "ipython3",
   "version": "3.7.3"
  }
 },
 "nbformat": 4,
 "nbformat_minor": 1
}
